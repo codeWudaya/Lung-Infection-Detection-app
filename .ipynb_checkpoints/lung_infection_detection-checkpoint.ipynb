{
 "cells": [
  {
   "cell_type": "markdown",
   "id": "9d5d7e43",
   "metadata": {
    "colab_type": "text",
    "id": "3DR-eO17geWu"
   },
   "source": [
    "# Convolutional Neural Network"
   ]
  },
  {
   "cell_type": "markdown",
   "id": "2fd493b2",
   "metadata": {
    "colab_type": "text",
    "id": "EMefrVPCg-60"
   },
   "source": [
    "### Importing the libraries"
   ]
  },
  {
   "cell_type": "code",
   "execution_count": 1,
   "id": "37f293d6",
   "metadata": {},
   "outputs": [],
   "source": [
    "import tensorflow as tf\n",
    "from keras.preprocessing.image import ImageDataGenerator"
   ]
  },
  {
   "cell_type": "code",
   "execution_count": 2,
   "id": "5f5158d0",
   "metadata": {
    "colab": {},
    "colab_type": "code",
    "id": "FIleuCAjoFD8"
   },
   "outputs": [
    {
     "data": {
      "text/plain": [
       "'2.12.0'"
      ]
     },
     "execution_count": 2,
     "metadata": {},
     "output_type": "execute_result"
    }
   ],
   "source": [
    "tf.__version__"
   ]
  },
  {
   "cell_type": "markdown",
   "id": "cbc2cc59",
   "metadata": {
    "colab_type": "text",
    "id": "oxQxCBWyoGPE"
   },
   "source": [
    "## Part 1 - Data Preprocessing"
   ]
  },
  {
   "cell_type": "markdown",
   "id": "c337cc78",
   "metadata": {
    "colab_type": "text",
    "id": "MvE-heJNo3GG"
   },
   "source": [
    "### Preprocessing the Training set"
   ]
  },
  {
   "cell_type": "code",
   "execution_count": 3,
   "id": "4ce2d838",
   "metadata": {},
   "outputs": [
    {
     "name": "stdout",
     "output_type": "stream",
     "text": [
      "Found 251 images belonging to 3 classes.\n"
     ]
    }
   ],
   "source": [
    "train_datagen = ImageDataGenerator(rescale = 1./255,#feature scaling to each and every value by diving all value 255 .\n",
    "                                   shear_range = 0.2,\n",
    "                                   zoom_range = 0.2,\n",
    "                                   horizontal_flip = True)\n",
    "training_set = train_datagen.flow_from_directory(r\"C:\\Users\\udaya\\OneDrive\\Desktop\\Deep Learning\\lung_infection-CNN\\lung_infection_data_set\\train\",\n",
    "                                                 target_size = (64,64),\n",
    "                                                 batch_size = 32,\n",
    "                                                 class_mode = 'categorical')"
   ]
  },
  {
   "cell_type": "markdown",
   "id": "bb6593e2",
   "metadata": {
    "colab_type": "text",
    "id": "mrCMmGw9pHys"
   },
   "source": [
    "### Preprocessing the Test set"
   ]
  },
  {
   "cell_type": "code",
   "execution_count": 4,
   "id": "e6dbc1de",
   "metadata": {},
   "outputs": [
    {
     "name": "stdout",
     "output_type": "stream",
     "text": [
      "Found 66 images belonging to 3 classes.\n"
     ]
    }
   ],
   "source": [
    "test_datagen = ImageDataGenerator(rescale = 1./255)\n",
    "test_set = test_datagen.flow_from_directory(r\"C:\\Users\\udaya\\OneDrive\\Desktop\\Deep Learning\\lung_infection-CNN\\lung_infection_data_set\\test\",\n",
    "                                            target_size = (64, 64),\n",
    "                                            batch_size = 32,#how many images in each batch\n",
    "                                            class_mode = 'categorical')"
   ]
  },
  {
   "cell_type": "markdown",
   "id": "4f6bfa07",
   "metadata": {
    "colab_type": "text",
    "id": "af8O4l90gk7B"
   },
   "source": [
    "## Part 2 - Building the CNN"
   ]
  },
  {
   "cell_type": "markdown",
   "id": "958dcff6",
   "metadata": {
    "colab_type": "text",
    "id": "ces1gXY2lmoX"
   },
   "source": [
    "### Initialising the CNN"
   ]
  },
  {
   "cell_type": "code",
   "execution_count": 5,
   "id": "174a2ed7",
   "metadata": {},
   "outputs": [],
   "source": [
    "cnn = tf.keras.models.Sequential()"
   ]
  },
  {
   "cell_type": "markdown",
   "id": "c94a0289",
   "metadata": {
    "colab_type": "text",
    "id": "u5YJj_XMl5LF"
   },
   "source": [
    "### Step 1 - Convolution"
   ]
  },
  {
   "cell_type": "code",
   "execution_count": 6,
   "id": "558bcffc",
   "metadata": {},
   "outputs": [],
   "source": [
    "cnn.add(tf.keras.layers.Conv2D(filters=32, kernel_size=3,activation='relu',input_shape=[64, 64, 3]))"
   ]
  },
  {
   "cell_type": "markdown",
   "id": "06e4dfba",
   "metadata": {
    "colab_type": "text",
    "id": "tf87FpvxmNOJ"
   },
   "source": [
    "### Step 2 - Pooling"
   ]
  },
  {
   "cell_type": "code",
   "execution_count": 7,
   "id": "f1f0e036",
   "metadata": {},
   "outputs": [],
   "source": [
    "cnn.add(tf.keras.layers.MaxPool2D(pool_size=2, strides=2))"
   ]
  },
  {
   "cell_type": "markdown",
   "id": "56875612",
   "metadata": {
    "colab_type": "text",
    "id": "xaTOgD8rm4mU"
   },
   "source": [
    "### Adding a second convolutional layer"
   ]
  },
  {
   "cell_type": "code",
   "execution_count": 8,
   "id": "b75bce15",
   "metadata": {},
   "outputs": [],
   "source": [
    "cnn.add(tf.keras.layers.Conv2D(filters=32, kernel_size=3, activation='relu'))\n",
    "cnn.add(tf.keras.layers.MaxPool2D(pool_size=2, strides=2))"
   ]
  },
  {
   "cell_type": "markdown",
   "id": "74d610ac",
   "metadata": {
    "colab_type": "text",
    "id": "tmiEuvTunKfk"
   },
   "source": [
    "### Step 3 - Flattening"
   ]
  },
  {
   "cell_type": "code",
   "execution_count": 9,
   "id": "9955bf2f",
   "metadata": {},
   "outputs": [],
   "source": [
    "cnn.add(tf.keras.layers.Flatten())"
   ]
  },
  {
   "cell_type": "markdown",
   "id": "d8cbc4fe",
   "metadata": {
    "colab_type": "text",
    "id": "dAoSECOm203v"
   },
   "source": [
    "### Step 4 - Full Connection"
   ]
  },
  {
   "cell_type": "code",
   "execution_count": 10,
   "id": "3e5cc856",
   "metadata": {},
   "outputs": [],
   "source": [
    "cnn.add(tf.keras.layers.Dense(units=128, activation='relu'))\n",
    "#rectifier activation "
   ]
  },
  {
   "cell_type": "markdown",
   "id": "3247d82c",
   "metadata": {
    "colab_type": "text",
    "id": "yTldFvbX28Na"
   },
   "source": [
    "### Step 5 - Output Layer"
   ]
  },
  {
   "cell_type": "code",
   "execution_count": 11,
   "id": "8e28d517",
   "metadata": {},
   "outputs": [],
   "source": [
    "cnn.add(tf.keras.layers.Dense(units=3, activation='sigmoid'))"
   ]
  },
  {
   "cell_type": "markdown",
   "id": "b5f30efe",
   "metadata": {
    "colab_type": "text",
    "id": "D6XkI90snSDl"
   },
   "source": [
    "## Part 3 - Training the CNN"
   ]
  },
  {
   "cell_type": "markdown",
   "id": "11e449fc",
   "metadata": {
    "colab_type": "text",
    "id": "vfrFQACEnc6i"
   },
   "source": [
    "### Compiling the CNN"
   ]
  },
  {
   "cell_type": "code",
   "execution_count": 12,
   "id": "ef615d8b",
   "metadata": {},
   "outputs": [],
   "source": [
    "cnn.compile(optimizer = 'adam', loss ='categorical_crossentropy', metrics = ['accuracy'])"
   ]
  },
  {
   "cell_type": "markdown",
   "id": "bc1ba77e",
   "metadata": {
    "colab_type": "text",
    "id": "ehS-v3MIpX2h"
   },
   "source": [
    "### Training the CNN on the Training set and evaluating it on the Test set"
   ]
  },
  {
   "cell_type": "code",
   "execution_count": 13,
   "id": "a391a025",
   "metadata": {},
   "outputs": [
    {
     "name": "stdout",
     "output_type": "stream",
     "text": [
      "Epoch 1/25\n",
      "8/8 [==============================] - 12s 1s/step - loss: 1.1811 - accuracy: 0.4104 - val_loss: 1.1323 - val_accuracy: 0.3030\n",
      "Epoch 2/25\n",
      "8/8 [==============================] - 8s 987ms/step - loss: 0.9793 - accuracy: 0.5896 - val_loss: 1.2359 - val_accuracy: 0.1212\n",
      "Epoch 3/25\n",
      "8/8 [==============================] - 8s 1s/step - loss: 0.7222 - accuracy: 0.7610 - val_loss: 1.7578 - val_accuracy: 0.0909\n",
      "Epoch 4/25\n",
      "8/8 [==============================] - 9s 1s/step - loss: 0.5394 - accuracy: 0.7968 - val_loss: 2.7809 - val_accuracy: 0.0606\n",
      "Epoch 5/25\n",
      "8/8 [==============================] - 8s 1s/step - loss: 0.4285 - accuracy: 0.8287 - val_loss: 3.5029 - val_accuracy: 0.0606\n",
      "Epoch 6/25\n",
      "8/8 [==============================] - 9s 1s/step - loss: 0.4242 - accuracy: 0.8367 - val_loss: 3.5326 - val_accuracy: 0.0909\n",
      "Epoch 7/25\n",
      "8/8 [==============================] - 10s 1s/step - loss: 0.5274 - accuracy: 0.7610 - val_loss: 3.3194 - val_accuracy: 0.0909\n",
      "Epoch 8/25\n",
      "8/8 [==============================] - 9s 1s/step - loss: 0.3918 - accuracy: 0.8207 - val_loss: 3.0207 - val_accuracy: 0.1667\n",
      "Epoch 9/25\n",
      "8/8 [==============================] - 8s 985ms/step - loss: 0.3266 - accuracy: 0.8805 - val_loss: 3.2099 - val_accuracy: 0.1212\n",
      "Epoch 10/25\n",
      "8/8 [==============================] - 8s 982ms/step - loss: 0.3003 - accuracy: 0.8845 - val_loss: 3.4591 - val_accuracy: 0.0455\n",
      "Epoch 11/25\n",
      "8/8 [==============================] - 9s 1s/step - loss: 0.2969 - accuracy: 0.8765 - val_loss: 3.8712 - val_accuracy: 0.1364\n",
      "Epoch 12/25\n",
      "8/8 [==============================] - 8s 1s/step - loss: 0.2817 - accuracy: 0.8964 - val_loss: 4.0308 - val_accuracy: 0.0303\n",
      "Epoch 13/25\n",
      "8/8 [==============================] - 8s 1s/step - loss: 0.2600 - accuracy: 0.9203 - val_loss: 5.0934 - val_accuracy: 0.0152\n",
      "Epoch 14/25\n",
      "8/8 [==============================] - 8s 1s/step - loss: 0.3642 - accuracy: 0.8805 - val_loss: 4.3770 - val_accuracy: 0.2879\n",
      "Epoch 15/25\n",
      "8/8 [==============================] - 8s 1s/step - loss: 0.3085 - accuracy: 0.8685 - val_loss: 4.0320 - val_accuracy: 0.0303\n",
      "Epoch 16/25\n",
      "8/8 [==============================] - 8s 1s/step - loss: 0.3000 - accuracy: 0.9124 - val_loss: 3.8241 - val_accuracy: 0.1667\n",
      "Epoch 17/25\n",
      "8/8 [==============================] - 9s 1s/step - loss: 0.2572 - accuracy: 0.9084 - val_loss: 3.5052 - val_accuracy: 0.0455\n",
      "Epoch 18/25\n",
      "8/8 [==============================] - 9s 1s/step - loss: 0.2241 - accuracy: 0.9283 - val_loss: 4.6014 - val_accuracy: 0.0303\n",
      "Epoch 19/25\n",
      "8/8 [==============================] - 8s 1s/step - loss: 0.2012 - accuracy: 0.9442 - val_loss: 4.5977 - val_accuracy: 0.0303\n",
      "Epoch 20/25\n",
      "8/8 [==============================] - 8s 1s/step - loss: 0.1971 - accuracy: 0.9243 - val_loss: 4.6838 - val_accuracy: 0.0303\n",
      "Epoch 21/25\n",
      "8/8 [==============================] - 8s 1s/step - loss: 0.1881 - accuracy: 0.9323 - val_loss: 4.9395 - val_accuracy: 0.0606\n",
      "Epoch 22/25\n",
      "8/8 [==============================] - 7s 940ms/step - loss: 0.1833 - accuracy: 0.9323 - val_loss: 5.1680 - val_accuracy: 0.0152\n",
      "Epoch 23/25\n",
      "8/8 [==============================] - 7s 934ms/step - loss: 0.2447 - accuracy: 0.9124 - val_loss: 5.0131 - val_accuracy: 0.1364\n",
      "Epoch 24/25\n",
      "8/8 [==============================] - 8s 1s/step - loss: 0.1626 - accuracy: 0.9442 - val_loss: 4.9033 - val_accuracy: 0.0152\n",
      "Epoch 25/25\n",
      "8/8 [==============================] - 8s 950ms/step - loss: 0.1760 - accuracy: 0.9323 - val_loss: 5.4885 - val_accuracy: 0.0455\n"
     ]
    }
   ],
   "source": [
    "h=cnn.fit(x = training_set, validation_data = test_set, epochs = 25)"
   ]
  },
  {
   "cell_type": "markdown",
   "id": "7cd44316",
   "metadata": {
    "colab_type": "text",
    "id": "U3PZasO0006Z"
   },
   "source": [
    "# Part 4 - Making a single prediction"
   ]
  },
  {
   "cell_type": "code",
   "execution_count": 14,
   "id": "088a8b85",
   "metadata": {},
   "outputs": [],
   "source": [
    "cnn.save('model.h5')"
   ]
  },
  {
   "cell_type": "code",
   "execution_count": 16,
   "id": "e264d739",
   "metadata": {},
   "outputs": [
    {
     "name": "stdout",
     "output_type": "stream",
     "text": [
      "1/1 [==============================] - 0s 93ms/step\n"
     ]
    },
    {
     "data": {
      "text/plain": [
       "{'Healthy': 0, 'Type 1 disease': 1, 'Type 2 disease': 2}"
      ]
     },
     "execution_count": 16,
     "metadata": {},
     "output_type": "execute_result"
    }
   ],
   "source": [
    "import numpy as np\n",
    "from tensorflow.keras.preprocessing import image\n",
    "test_image = image.load_img(r\"C:\\Users\\udaya\\OneDrive\\Desktop\\Deep Learning\\lung_infection-CNN\\lung_infection_data_set\\test\\Type 1 disease\\096.png\", target_size = (64, 64))\n",
    "test_image = image.img_to_array(test_image)\n",
    "test_image = np.expand_dims(test_image, axis = 0)\n",
    "result = cnn.predict(test_image)\n",
    "training_set.class_indices"
   ]
  },
  {
   "cell_type": "code",
   "execution_count": 29,
   "id": "3b94c059",
   "metadata": {},
   "outputs": [
    {
     "name": "stdout",
     "output_type": "stream",
     "text": [
      "0\n"
     ]
    }
   ],
   "source": [
    "# print(np.argmax(result[0]))"
   ]
  },
  {
   "cell_type": "code",
   "execution_count": 26,
   "id": "59d4fd18",
   "metadata": {},
   "outputs": [
    {
     "name": "stdout",
     "output_type": "stream",
     "text": [
      "Prediction: Type 2 disease\n"
     ]
    }
   ],
   "source": [
    "import tensorflow as tf\n",
    "import numpy as np\n",
    "from tensorflow.keras.preprocessing import image\n",
    "\n",
    "# Load the trained model\n",
    "from tensorflow.keras.models import load_model\n",
    "cnn = load_model('model.h5')\n",
    "\n",
    "# Define the class labels\n",
    "class_labels = {0: 'Healthy', 1: 'Type 1 disease', 2: 'Type 2 disease'}\n",
    "\n",
    "# Function to make predictions\n",
    "@tf.function\n",
    "def predict(image_path):\n",
    "    test_image = image.load_img(image_path, target_size=(64, 64))\n",
    "    test_image = image.img_to_array(test_image)\n",
    "    test_image = np.expand_dims(test_image, axis=0)\n",
    "    result = cnn(test_image)  # Call the model directly on the input\n",
    "    label_index = tf.argmax(result, axis=1)  # Find the index of the maximum value\n",
    "    return label_index\n",
    "\n",
    "# Example usage\n",
    "image_path = r\"C:\\Users\\udaya\\OneDrive\\Desktop\\Deep Learning\\lung_infection-CNN\\lung_infection_data_set\\test\\Type 2 disease\\0108.jpeg\"\n",
    "result = predict(image_path)\n",
    "prediction_index = result.numpy()[0]\n",
    "prediction_label = class_labels[prediction_index]\n",
    "print(\"Prediction:\", prediction_label)\n"
   ]
  },
  {
   "cell_type": "code",
   "execution_count": 32,
   "id": "203c2962",
   "metadata": {},
   "outputs": [
    {
     "name": "stdout",
     "output_type": "stream",
     "text": [
      "Healthy\n"
     ]
    }
   ],
   "source": [
    "# if np.argmax(result[0])==0:\n",
    "#     print(\"Healthy\")\n",
    "# elif np.argmax(result[0]==1):\n",
    "#     print(\"Type 1 desease\")\n",
    "# else:\n",
    "#     print(\"Type 2 desease\")"
   ]
  },
  {
   "cell_type": "raw",
   "id": "855d81ef",
   "metadata": {},
   "source": [
    "Ploting graph and cm"
   ]
  },
  {
   "cell_type": "code",
   "execution_count": 27,
   "id": "218bc7e2",
   "metadata": {},
   "outputs": [],
   "source": [
    "import matplotlib.pyplot as plt\n",
    "import seaborn as sns"
   ]
  },
  {
   "cell_type": "code",
   "execution_count": 30,
   "id": "ef75ed2d",
   "metadata": {},
   "outputs": [
    {
     "data": {
      "image/png": "[encoded data removed]",
      "text/plain": [
       "<Figure size 640x480 with 1 Axes>"
      ]
     },
     "metadata": {},
     "output_type": "display_data"
    }
   ],
   "source": [
    "plt.plot(h.history['loss'], label='Training Loss')\n",
    "plt.plot(h.history['val_loss'], label='Validation Loss')\n",
    "plt.title('Loss Curve')\n",
    "plt.xlabel('Epochs')\n",
    "plt.ylabel('Loss')\n",
    "plt.legend()\n",
    "plt.show()"
   ]
  },
  {
   "cell_type": "code",
   "execution_count": 31,
   "id": "91e9ba0e",
   "metadata": {},
   "outputs": [
    {
     "name": "stdout",
     "output_type": "stream",
     "text": [
      "3/3 [==============================] - 1s 242ms/step\n"
     ]
    }
   ],
   "source": [
    "from sklearn.metrics import confusion_matrix\n",
    "pred = np.argmax(cnn.predict(test_set),axis=1)"
   ]
  },
  {
   "cell_type": "code",
   "execution_count": null,
   "id": "ae40e539",
   "metadata": {},
   "outputs": [],
   "source": [
    "cm = confusion_matrix(np.argmax(test_set,axis=1),pred)\n",
    "print(cm)"
   ]
  },
  {
   "cell_type": "code",
   "execution_count": null,
   "id": "5846192f",
   "metadata": {},
   "outputs": [],
   "source": [
    "plt.figure(figsize=(10,10))\n",
    "sns.heatmap(cm,annot=True)\n",
    "plt.show()"
   ]
  },
  {
   "cell_type": "markdown",
   "id": "06d438a0",
   "metadata": {},
   "source": [
    "# GUI"
   ]
  },
  {
   "cell_type": "code",
   "execution_count": 1,
   "id": "f01a78c0",
   "metadata": {},
   "outputs": [
    {
     "name": "stderr",
     "output_type": "stream",
     "text": [
      "C:\\Users\\udaya\\anaconda3\\lib\\site-packages\\PIL\\ImageTk.py:122: FutureWarning: elementwise comparison failed; returning scalar instead, but in the future will perform elementwise comparison\n",
      "  if mode not in [\"1\", \"L\", \"RGB\", \"RGBA\"]:\n",
      "Exception in Tkinter callback\n",
      "Traceback (most recent call last):\n",
      "  File \"C:\\Users\\udaya\\anaconda3\\lib\\tkinter\\__init__.py\", line 1921, in __call__\n",
      "    return self.func(*args)\n",
      "  File \"C:\\Users\\udaya\\AppData\\Local\\Temp\\ipykernel_1572\\3173573140.py\", line 41, in on_click\n",
      "    image_label.configure(image=ImageTk.PhotoImage(image))\n",
      "  File \"C:\\Users\\udaya\\anaconda3\\lib\\site-packages\\PIL\\ImageTk.py\", line 123, in __init__\n",
      "    mode = Image.getmodebase(mode)\n",
      "  File \"C:\\Users\\udaya\\anaconda3\\lib\\site-packages\\PIL\\Image.py\", line 274, in getmodebase\n",
      "    return ImageMode.getmode(mode).basemode\n",
      "  File \"C:\\Users\\udaya\\anaconda3\\lib\\site-packages\\PIL\\ImageMode.py\", line 91, in getmode\n",
      "    return _modes[mode]\n",
      "TypeError: unhashable type: 'numpy.ndarray'\n",
      "Exception in Tkinter callback\n",
      "Exception ignored in: <function PhotoImage.__del__ at 0x000002577C80C040>\n",
      "Traceback (most recent call last):\n",
      "  File \"C:\\Users\\udaya\\anaconda3\\lib\\site-packages\\PIL\\ImageTk.py\", line 133, in __del__\n",
      "    name = self.__photo.name\n",
      "AttributeError: 'PhotoImage' object has no attribute '_PhotoImage__photo'\n",
      "Traceback (most recent call last):\n",
      "  File \"C:\\Users\\udaya\\anaconda3\\lib\\tkinter\\__init__.py\", line 1921, in __call__\n",
      "    return self.func(*args)\n",
      "  File \"C:\\Users\\udaya\\AppData\\Local\\Temp\\ipykernel_1572\\3173573140.py\", line 41, in on_click\n",
      "    image_label.configure(image=ImageTk.PhotoImage(image))\n",
      "  File \"C:\\Users\\udaya\\anaconda3\\lib\\site-packages\\PIL\\ImageTk.py\", line 123, in __init__\n",
      "    mode = Image.getmodebase(mode)\n",
      "  File \"C:\\Users\\udaya\\anaconda3\\lib\\site-packages\\PIL\\Image.py\", line 274, in getmodebase\n",
      "    return ImageMode.getmode(mode).basemode\n",
      "  File \"C:\\Users\\udaya\\anaconda3\\lib\\site-packages\\PIL\\ImageMode.py\", line 91, in getmode\n",
      "    return _modes[mode]\n",
      "TypeError: unhashable type: 'numpy.ndarray'\n"
     ]
    }
   ],
   "source": [
    "import tkinter as tk\n",
    "from tkinter import filedialog\n",
    "from PIL import Image, ImageTk\n",
    "import tensorflow as tf\n",
    "import numpy as np\n",
    "\n",
    "# Load the trained model\n",
    "# from tensorflow.keras.models import load_model\n",
    "\n",
    "# Define the class labels\n",
    "class_labels = {0: 'Healthy', 1: 'Type 1 disease', 2: 'Type 2 disease'}\n",
    "\n",
    "# Load the trained model\n",
    "cnn = tf.keras.models.load_model('model.h5')\n",
    "\n",
    "# Function to make predictions\n",
    "@tf.function\n",
    "def predict(image):\n",
    "    result = cnn(image)  # Call the model directly on the input tensor\n",
    "    label_index = tf.argmax(result, axis=1)  # Find the index of the maximum value\n",
    "    return label_index\n",
    "\n",
    "# Function to handle button click event\n",
    "def on_click():\n",
    "    file_path = filedialog.askopenfilename(filetypes=[('Image Files', '*.jpg;*.jpeg;*.png')])\n",
    "    if file_path:\n",
    "        image = Image.open(file_path).convert('RGB')  # Open the image using PIL\n",
    "        image = image.resize((64, 64))  # Resize the image to the desired size\n",
    "        image = np.array(image)  # Convert the image to a NumPy array\n",
    "        image = np.expand_dims(image, axis=0)  # Add an extra dimension\n",
    "\n",
    "        result = predict(image)\n",
    "        prediction_index = result.numpy()[0]\n",
    "        prediction_label = class_labels[prediction_index]\n",
    "\n",
    "        if prediction_label == 'Healthy':\n",
    "            prediction_color = '#00FF00'  # Green color\n",
    "        else:\n",
    "            prediction_color = '#FF0000'  # Red color\n",
    "        prediction_text.config(text=prediction_label, fg=prediction_color)\n",
    "        image_label.configure(image=ImageTk.PhotoImage(image))\n",
    "        image_label.image = ImageTk.PhotoImage(image)\n",
    "\n",
    "# Create the Tkinter window\n",
    "window = tk.Tk()\n",
    "window.title(\"Lung Disease Detector\")\n",
    "window.geometry(\"500x300\")\n",
    "\n",
    "# Create the title label\n",
    "title_label = tk.Label(window, text=\"Lung Disease Detector\", font=(\"Arial\", 24, \"bold\"))\n",
    "title_label.pack(pady=10)\n",
    "\n",
    "# Create the image label\n",
    "image_label = tk.Label(window)\n",
    "image_label.pack(pady=10)\n",
    "\n",
    "# Create the upload button\n",
    "upload_button = tk.Button(window, text=\"Upload Image\", command=on_click)\n",
    "upload_button.pack(pady=10)\n",
    "\n",
    "# Create the prediction label\n",
    "prediction_text = tk.Label(window, font=(\"Arial\", 18))\n",
    "prediction_text.pack(pady=10)\n",
    "\n",
    "# Run the Tkinter event loop\n",
    "window.mainloop()\n"
   ]
  }
 ],
 "metadata": {
  "kernelspec": {
   "display_name": "Python 3 (ipykernel)",
   "language": "python",
   "name": "python3"
  },
  "language_info": {
   "codemirror_mode": {
    "name": "ipython",
    "version": 3
   },
   "file_extension": ".py",
   "mimetype": "text/x-python",
   "name": "python",
   "nbconvert_exporter": "python",
   "pygments_lexer": "ipython3",
   "version": "3.10.9"
  },
  "vscode": {
   "interpreter": {
    "hash": "4bd667f36f3b2cc00e9033b0c426d3df2fb9ff64a736ed69ec66a5582a443707"
   }
  }
 },
 "nbformat": 4,
 "nbformat_minor": 5
}
